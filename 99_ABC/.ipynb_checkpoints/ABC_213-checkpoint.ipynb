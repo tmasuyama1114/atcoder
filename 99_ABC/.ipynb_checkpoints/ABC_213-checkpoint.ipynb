{
 "cells": [
  {
   "cell_type": "markdown",
   "id": "d3318daf",
   "metadata": {},
   "source": [
    "# B - Booby Priz\n",
    "https://atcoder.jp/contests/abc213/tasks/abc213_b"
   ]
  },
  {
   "cell_type": "code",
   "execution_count": 15,
   "id": "1abd1201",
   "metadata": {},
   "outputs": [
    {
     "name": "stdout",
     "output_type": "stream",
     "text": [
      "6\n",
      "1 2\n",
      "1\n"
     ]
    }
   ],
   "source": [
    "n = int(input())\n",
    "a = list(map(int, input().split()))\n",
    "\n",
    "new_a = sorted(a)\n",
    "new_a[-2]\n",
    "\n",
    "print(a.index(new_a[-2])+ 1)"
   ]
  }
 ],
 "metadata": {
  "kernelspec": {
   "display_name": "Python 3",
   "language": "python",
   "name": "python3"
  },
  "language_info": {
   "codemirror_mode": {
    "name": "ipython",
    "version": 3
   },
   "file_extension": ".py",
   "mimetype": "text/x-python",
   "name": "python",
   "nbconvert_exporter": "python",
   "pygments_lexer": "ipython3",
   "version": "3.8.8"
  }
 },
 "nbformat": 4,
 "nbformat_minor": 5
}
